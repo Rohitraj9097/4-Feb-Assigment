{
 "cells": [
  {
   "cell_type": "code",
   "execution_count": null,
   "id": "059300ac-9e8e-4ffb-9989-95a9f2b5fb8f",
   "metadata": {},
   "outputs": [],
   "source": [
    "Q1. Create a python program to sort the given list of tuples based on integer value using a\n",
    "lambda function.\n",
    "[('Sachin Tendulkar', 34357), ('Ricky Ponting', 27483), ('Jack Kallis', 25534), ('Virat Kohli', 24936)]\n",
    "\n",
    "Ans.\n",
    "d=[('Sachin Tendulkar', 34357), ('Ricky Ponting', 27483), ('Jack Kallis', 25534), ('Virat Kohli', 24936)]\n",
    "d1=sorted(d,key=lambda kv:kv[1])\n",
    "print(d1)\n",
    "\n",
    "Q2. Write a Python Program to find the squares of all the numbers in the given list of integers using\n",
    "lambda and map functions.\n",
    "[1, 2, 3, 4, 5, 6, 7, 8, 9, 10]\n",
    "\n",
    "Ans.\n",
    "l1=[1,2,3,4,5,6,7,8,9,10]\n",
    "sq=list(map(lambda n:n*n,l1))\n",
    "print(sq)\n",
    "\n",
    "Q3. Write a python program to convert the given list of integers into a tuple of strings. Use map and\n",
    "lambda functions\n",
    "Given String: [1, 2, 3, 4, 5, 6, 7, 8, 9, 10]\n",
    "Expected output: ('1', '2', '3', '4', '5', '6', '7', '8', '9', '10')\n",
    "\n",
    "Ans.\n",
    "l=[1,2,3,4,5,6,7,8,9,10]\n",
    "cv=str(map(lambda n:l,l))\n",
    "print(cv)\n",
    "\n",
    "Q4. Write a python program using reduce function to compute the product of a list containing numbers\n",
    "from 1 to 25.\n",
    "\n",
    "Ans.\n",
    "from functools import reduce\n",
    "num=[1,2,3,4,5,6,7,8,9,10,11,12,13,14,15,16,17,18,19,20,21,22,23,24,25]\n",
    "ans=reduce(lambda x,y: x+y,num)\n",
    "print(ans)\n",
    "\n",
    "Q5. Write a python program to filter the numbers in a given list that are divisible by 2 and 3 using the\n",
    "filter function.\n",
    "[2, 3, 6, 9, 27, 60, 90, 120, 55, 46]\n",
    "\n",
    "Ans.\n",
    "l=[2,3,6,9,27,60,90,120,55,46]\n",
    "f=filter(lambda n:n%2==0,l)\n",
    "print(list(f))\n",
    "\n",
    "Q6. Write a python program to find palindromes in the given list of strings using lambda and filter\n",
    "function.\n",
    "['python', 'php', 'aba', 'radar', 'level']\n",
    "\n",
    "Ans.\n",
    "str=['python','php','aba','raddr','level']\n",
    "pa=filter(lambda n:n,str)\n",
    "print('Palindom',pa)"
   ]
  }
 ],
 "metadata": {
  "kernelspec": {
   "display_name": "Python 3 (ipykernel)",
   "language": "python",
   "name": "python3"
  },
  "language_info": {
   "codemirror_mode": {
    "name": "ipython",
    "version": 3
   },
   "file_extension": ".py",
   "mimetype": "text/x-python",
   "name": "python",
   "nbconvert_exporter": "python",
   "pygments_lexer": "ipython3",
   "version": "3.10.8"
  }
 },
 "nbformat": 4,
 "nbformat_minor": 5
}
